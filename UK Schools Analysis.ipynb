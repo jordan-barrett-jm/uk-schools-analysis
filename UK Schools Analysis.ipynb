{
 "cells": [
  {
   "cell_type": "code",
   "execution_count": 78,
   "id": "14a126c4",
   "metadata": {},
   "outputs": [],
   "source": [
    "import pandas as pd\n",
    "from pandas import ExcelWriter\n",
    "from pandas import ExcelFile\n",
    "from sklearn.linear_model import LinearRegression\n",
    "import matplotlib.pyplot as plt\n"
   ]
  },
  {
   "cell_type": "code",
   "execution_count": 90,
   "id": "982241ff",
   "metadata": {
    "scrolled": true
   },
   "outputs": [
    {
     "data": {
      "text/html": [
       "<div>\n",
       "<style scoped>\n",
       "    .dataframe tbody tr th:only-of-type {\n",
       "        vertical-align: middle;\n",
       "    }\n",
       "\n",
       "    .dataframe tbody tr th {\n",
       "        vertical-align: top;\n",
       "    }\n",
       "\n",
       "    .dataframe thead th {\n",
       "        text-align: right;\n",
       "    }\n",
       "</style>\n",
       "<table border=\"1\" class=\"dataframe\">\n",
       "  <thead>\n",
       "    <tr style=\"text-align: right;\">\n",
       "      <th></th>\n",
       "      <th>la_code</th>\n",
       "      <th>la_name</th>\n",
       "      <th>number_of_schools</th>\n",
       "    </tr>\n",
       "  </thead>\n",
       "  <tbody>\n",
       "    <tr>\n",
       "      <th>2952</th>\n",
       "      <td>E08000010</td>\n",
       "      <td>Wigan</td>\n",
       "      <td>136</td>\n",
       "    </tr>\n",
       "    <tr>\n",
       "      <th>2953</th>\n",
       "      <td>E06000054</td>\n",
       "      <td>Wiltshire</td>\n",
       "      <td>261</td>\n",
       "    </tr>\n",
       "    <tr>\n",
       "      <th>2954</th>\n",
       "      <td>E10000007</td>\n",
       "      <td>Derbyshire</td>\n",
       "      <td>446</td>\n",
       "    </tr>\n",
       "    <tr>\n",
       "      <th>2955</th>\n",
       "      <td>E09000011</td>\n",
       "      <td>Greenwich</td>\n",
       "      <td>105</td>\n",
       "    </tr>\n",
       "    <tr>\n",
       "      <th>2956</th>\n",
       "      <td>E08000009</td>\n",
       "      <td>Trafford</td>\n",
       "      <td>103</td>\n",
       "    </tr>\n",
       "  </tbody>\n",
       "</table>\n",
       "</div>"
      ],
      "text/plain": [
       "        la_code     la_name  number_of_schools\n",
       "2952  E08000010       Wigan                136\n",
       "2953  E06000054   Wiltshire                261\n",
       "2954  E10000007  Derbyshire                446\n",
       "2955  E09000011   Greenwich                105\n",
       "2956  E08000009    Trafford                103"
      ]
     },
     "execution_count": 90,
     "metadata": {},
     "output_type": "execute_result"
    }
   ],
   "source": [
    "#read the data in from the schools dataset\n",
    "school_cols = [\"time_period\",\"new_la_code\", \"number_of_schools\", \"la_name\", \"Sex_of_school_description\", \"Phase-type_grouping\", \"TypeOfEstablishment_(name)\",\"Denomination\", \"Admissions_Policy\", \"Urban_rural\",\"Academy_flag\"]\n",
    "schools = pd.read_csv(\"spc_school_characteristics_20210727.csv\", usecols=school_cols)\n",
    "schools.rename(columns={\"new_la_code\":\"la_code\",\"Phase-type_grouping\": \"Phase_Grouping\", \"TypeOfEstablishment_(name)\":\"TypeOfEstablishment\"}, inplace=True)\n",
    "\n",
    "#retrieve only totals and \n",
    "schools = schools.query(\"time_period == 202021 &Sex_of_school_description == 'Total' & Phase_Grouping == 'Total' & TypeOfEstablishment == 'Total' & Admissions_Policy == 'Total' & Urban_rural == 'Total' & Academy_flag == 'Total' & Denomination == 'Total'\")\n",
    "\n",
    "#drop any rows with missing data\n",
    "schools = schools.dropna()\n",
    "\n",
    "#remove unnecessary columns\n",
    "schools = schools[[\"la_code\", \"la_name\", \"number_of_schools\"]].copy()\n",
    "schools.head()"
   ]
  },
  {
   "cell_type": "code",
   "execution_count": 91,
   "id": "1cc96cb5",
   "metadata": {
    "scrolled": true
   },
   "outputs": [
    {
     "data": {
      "text/html": [
       "<div>\n",
       "<style scoped>\n",
       "    .dataframe tbody tr th:only-of-type {\n",
       "        vertical-align: middle;\n",
       "    }\n",
       "\n",
       "    .dataframe tbody tr th {\n",
       "        vertical-align: top;\n",
       "    }\n",
       "\n",
       "    .dataframe thead th {\n",
       "        text-align: right;\n",
       "    }\n",
       "</style>\n",
       "<table border=\"1\" class=\"dataframe\">\n",
       "  <thead>\n",
       "    <tr style=\"text-align: right;\">\n",
       "      <th></th>\n",
       "      <th>la_code</th>\n",
       "      <th>LAD Name</th>\n",
       "      <th>productivity_index</th>\n",
       "    </tr>\n",
       "  </thead>\n",
       "  <tbody>\n",
       "    <tr>\n",
       "      <th>0</th>\n",
       "      <td>E06000001</td>\n",
       "      <td>Hartlepool</td>\n",
       "      <td>80.53</td>\n",
       "    </tr>\n",
       "    <tr>\n",
       "      <th>1</th>\n",
       "      <td>E06000002</td>\n",
       "      <td>Middlesbrough</td>\n",
       "      <td>83.35</td>\n",
       "    </tr>\n",
       "    <tr>\n",
       "      <th>2</th>\n",
       "      <td>E06000003</td>\n",
       "      <td>Redcar and Cleveland</td>\n",
       "      <td>75.50</td>\n",
       "    </tr>\n",
       "    <tr>\n",
       "      <th>3</th>\n",
       "      <td>E06000004</td>\n",
       "      <td>Stockton-on-Tees</td>\n",
       "      <td>97.78</td>\n",
       "    </tr>\n",
       "    <tr>\n",
       "      <th>4</th>\n",
       "      <td>E06000005</td>\n",
       "      <td>Darlington</td>\n",
       "      <td>92.95</td>\n",
       "    </tr>\n",
       "  </tbody>\n",
       "</table>\n",
       "</div>"
      ],
      "text/plain": [
       "     la_code              LAD Name  productivity_index\n",
       "0  E06000001            Hartlepool               80.53\n",
       "1  E06000002         Middlesbrough               83.35\n",
       "2  E06000003  Redcar and Cleveland               75.50\n",
       "3  E06000004      Stockton-on-Tees               97.78\n",
       "4  E06000005            Darlington               92.95"
      ]
     },
     "execution_count": 91,
     "metadata": {},
     "output_type": "execute_result"
    }
   ],
   "source": [
    "#read in data from labour productivity dataset\n",
    "labour_prod = pd.read_excel(\"ladproductivity.xls\", sheet_name=\"A1\", header=4, skipfooter=7, skiprows=[5], usecols=[0,1,17])\n",
    "\n",
    "#assign same column name for local authority code\n",
    "labour_prod.rename(columns={\"LAD Code\":\"la_code\", \"index.15\":\"productivity_index\"}, inplace=True)\n",
    "labour_prod.head()"
   ]
  },
  {
   "cell_type": "code",
   "execution_count": 92,
   "id": "b71eb290",
   "metadata": {},
   "outputs": [
    {
     "data": {
      "text/html": [
       "<div>\n",
       "<style scoped>\n",
       "    .dataframe tbody tr th:only-of-type {\n",
       "        vertical-align: middle;\n",
       "    }\n",
       "\n",
       "    .dataframe tbody tr th {\n",
       "        vertical-align: top;\n",
       "    }\n",
       "\n",
       "    .dataframe thead th {\n",
       "        text-align: right;\n",
       "    }\n",
       "</style>\n",
       "<table border=\"1\" class=\"dataframe\">\n",
       "  <thead>\n",
       "    <tr style=\"text-align: right;\">\n",
       "      <th></th>\n",
       "      <th>la_code</th>\n",
       "      <th>la_name</th>\n",
       "      <th>number_of_schools</th>\n",
       "      <th>LAD Name</th>\n",
       "      <th>productivity_index</th>\n",
       "    </tr>\n",
       "  </thead>\n",
       "  <tbody>\n",
       "    <tr>\n",
       "      <th>0</th>\n",
       "      <td>E08000010</td>\n",
       "      <td>Wigan</td>\n",
       "      <td>136</td>\n",
       "      <td>Wigan</td>\n",
       "      <td>77.16</td>\n",
       "    </tr>\n",
       "    <tr>\n",
       "      <th>1</th>\n",
       "      <td>E06000054</td>\n",
       "      <td>Wiltshire</td>\n",
       "      <td>261</td>\n",
       "      <td>Wiltshire</td>\n",
       "      <td>86.98</td>\n",
       "    </tr>\n",
       "    <tr>\n",
       "      <th>2</th>\n",
       "      <td>E09000011</td>\n",
       "      <td>Greenwich</td>\n",
       "      <td>105</td>\n",
       "      <td>Greenwich</td>\n",
       "      <td>109.37</td>\n",
       "    </tr>\n",
       "    <tr>\n",
       "      <th>3</th>\n",
       "      <td>E08000009</td>\n",
       "      <td>Trafford</td>\n",
       "      <td>103</td>\n",
       "      <td>Trafford</td>\n",
       "      <td>103.86</td>\n",
       "    </tr>\n",
       "    <tr>\n",
       "      <th>4</th>\n",
       "      <td>E06000044</td>\n",
       "      <td>Portsmouth</td>\n",
       "      <td>66</td>\n",
       "      <td>Portsmouth</td>\n",
       "      <td>97.90</td>\n",
       "    </tr>\n",
       "    <tr>\n",
       "      <th>...</th>\n",
       "      <td>...</td>\n",
       "      <td>...</td>\n",
       "      <td>...</td>\n",
       "      <td>...</td>\n",
       "      <td>...</td>\n",
       "    </tr>\n",
       "    <tr>\n",
       "      <th>118</th>\n",
       "      <td>E06000032</td>\n",
       "      <td>Luton</td>\n",
       "      <td>80</td>\n",
       "      <td>Luton</td>\n",
       "      <td>103.24</td>\n",
       "    </tr>\n",
       "    <tr>\n",
       "      <th>119</th>\n",
       "      <td>E08000022</td>\n",
       "      <td>North Tyneside</td>\n",
       "      <td>82</td>\n",
       "      <td>North Tyneside</td>\n",
       "      <td>90.45</td>\n",
       "    </tr>\n",
       "    <tr>\n",
       "      <th>120</th>\n",
       "      <td>E06000035</td>\n",
       "      <td>Medway</td>\n",
       "      <td>110</td>\n",
       "      <td>Medway</td>\n",
       "      <td>103.96</td>\n",
       "    </tr>\n",
       "    <tr>\n",
       "      <th>121</th>\n",
       "      <td>E09000014</td>\n",
       "      <td>Haringey</td>\n",
       "      <td>100</td>\n",
       "      <td>Haringey</td>\n",
       "      <td>91.37</td>\n",
       "    </tr>\n",
       "    <tr>\n",
       "      <th>122</th>\n",
       "      <td>E06000042</td>\n",
       "      <td>Milton Keynes</td>\n",
       "      <td>119</td>\n",
       "      <td>Milton Keynes</td>\n",
       "      <td>124.88</td>\n",
       "    </tr>\n",
       "  </tbody>\n",
       "</table>\n",
       "<p>123 rows × 5 columns</p>\n",
       "</div>"
      ],
      "text/plain": [
       "       la_code         la_name  number_of_schools        LAD Name  \\\n",
       "0    E08000010           Wigan                136           Wigan   \n",
       "1    E06000054       Wiltshire                261       Wiltshire   \n",
       "2    E09000011       Greenwich                105       Greenwich   \n",
       "3    E08000009        Trafford                103        Trafford   \n",
       "4    E06000044      Portsmouth                 66      Portsmouth   \n",
       "..         ...             ...                ...             ...   \n",
       "118  E06000032           Luton                 80           Luton   \n",
       "119  E08000022  North Tyneside                 82  North Tyneside   \n",
       "120  E06000035          Medway                110          Medway   \n",
       "121  E09000014        Haringey                100        Haringey   \n",
       "122  E06000042   Milton Keynes                119   Milton Keynes   \n",
       "\n",
       "     productivity_index  \n",
       "0                 77.16  \n",
       "1                 86.98  \n",
       "2                109.37  \n",
       "3                103.86  \n",
       "4                 97.90  \n",
       "..                  ...  \n",
       "118              103.24  \n",
       "119               90.45  \n",
       "120              103.96  \n",
       "121               91.37  \n",
       "122              124.88  \n",
       "\n",
       "[123 rows x 5 columns]"
      ]
     },
     "execution_count": 92,
     "metadata": {},
     "output_type": "execute_result"
    }
   ],
   "source": [
    "#merge schools and labour_prod data frame on la_code column\n",
    "\n",
    "schools_labour_prod = pd.merge(schools, labour_prod, on='la_code')\n",
    "schools_labour_prod"
   ]
  },
  {
   "cell_type": "markdown",
   "id": "0a254f50",
   "metadata": {},
   "source": [
    "# Scatter Plot - # of Schools and Labour Productivity by Local Authority"
   ]
  },
  {
   "cell_type": "code",
   "execution_count": 93,
   "id": "eeba029b",
   "metadata": {},
   "outputs": [
    {
     "data": {
      "text/plain": [
       "<AxesSubplot:xlabel='number_of_schools', ylabel='productivity_index'>"
      ]
     },
     "execution_count": 93,
     "metadata": {},
     "output_type": "execute_result"
    },
    {
     "data": {
      "image/png": "[encoded data removed]",
      "text/plain": [
       "<Figure size 432x288 with 1 Axes>"
      ]
     },
     "metadata": {
      "needs_background": "light"
     },
     "output_type": "display_data"
    }
   ],
   "source": [
    "#scatter plot of data\n",
    "schools_labour_prod.plot.scatter(x=\"number_of_schools\", y=\"productivity_index\")"
   ]
  },
  {
   "cell_type": "markdown",
   "id": "ed9af324",
   "metadata": {},
   "source": [
    "# Line of Best Fit - # of Schools and Labour Productivity by Local Authority\n",
    "There seems to be no real correlation between the number of schools in a local authority and its labour productivity up until the point at which the number of schools in a local authority exceeds 100"
   ]
  },
  {
   "cell_type": "code",
   "execution_count": 94,
   "id": "8a310e11",
   "metadata": {},
   "outputs": [
    {
     "data": {
      "image/png": "[encoded data removed]",
      "text/plain": [
       "<Figure size 432x288 with 1 Axes>"
      ]
     },
     "metadata": {
      "needs_background": "light"
     },
     "output_type": "display_data"
    }
   ],
   "source": [
    "#perform some linear regression to find our line of best fit\n",
    "#convert columns to numpy arrays\n",
    "X = schools_labour_prod[\"number_of_schools\"].to_numpy().reshape(-1,1)\n",
    "Y = schools_labour_prod[\"productivity_index\"].to_numpy().reshape(-1,1)\n",
    "\n",
    "#instantiate linear regression object\n",
    "linear_regressor = LinearRegression()  # create object for the class\n",
    "linear_regressor.fit(X, Y)  # perform linear regression\n",
    "Y_pred = linear_regressor.predict(X)\n",
    "\n",
    "#show linear regression\n",
    "plt.scatter(X, Y)\n",
    "plt.plot(X, Y_pred, color='red')\n",
    "plt.show()"
   ]
  },
  {
   "cell_type": "code",
   "execution_count": null,
   "id": "ddbdeda1",
   "metadata": {},
   "outputs": [],
   "source": []
  }
 ],
 "metadata": {
  "kernelspec": {
   "display_name": "Python 3",
   "language": "python",
   "name": "python3"
  },
  "language_info": {
   "codemirror_mode": {
    "name": "ipython",
    "version": 3
   },
   "file_extension": ".py",
   "mimetype": "text/x-python",
   "name": "python",
   "nbconvert_exporter": "python",
   "pygments_lexer": "ipython3",
   "version": "3.9.5"
  }
 },
 "nbformat": 4,
 "nbformat_minor": 5
}
