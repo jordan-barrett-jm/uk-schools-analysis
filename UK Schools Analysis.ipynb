{
 "cells": [
  {
   "cell_type": "markdown",
   "id": "1459928a",
   "metadata": {},
   "source": [
    "# How the Number of Schools in an Area affect Quality of Life\n",
    "\n",
    "A look at how the number of schools in a UK local authority correlates with other quality of life measures\n",
    "\n",
    "Sources:\n",
    "\n",
    "1. Subregional productivity: labour productivity indices by local authority district -  https://www.ons.gov.uk/employmentandlabourmarket/peopleinwork/labourproductivity/datasets/subregionalproductivitylabourproductivityindicesbylocalauthoritydistrict\n",
    "\n",
    "2. Schools, pupils and their characteristics (Phase and type, admissions, denomination, urban-rural, gender) - https://explore-education-statistics.service.gov.uk/data-catalogue/school-pupils-and-their-characteristics/2020-21\n",
    "\n",
    "3. Income estimates for small areas, England and Wales - https://www.ons.gov.uk/employmentandlabourmarket/peopleinwork/earningsandworkinghours/datasets/smallareaincomeestimatesformiddlelayersuperoutputareasenglandandwales\n",
    "\n",
    "4. Recorded crime data by Community Safety Partnership area - https://www.ons.gov.uk/peoplepopulationandcommunity/crimeandjustice/datasets/recordedcrimedatabycommunitysafetypartnershiparea\n",
    "\n",
    "5. Regional labour market: Modelled unemployment for local and unitary authorities - https://www.ons.gov.uk/employmentandlabourmarket/peoplenotinwork/unemployment/datasets/modelledunemploymentforlocalandunitaryauthoritiesm01\n",
    "\n",
    "6. Estimates of the population for the UK, England and Wales, Scotland and Northern Ireland - https://www.ons.gov.uk/peoplepopulationandcommunity/populationandmigration/populationestimates/datasets/populationestimatesforukenglandandwalesscotlandandnorthernireland"
   ]
  },
  {
   "cell_type": "code",
   "execution_count": 109,
   "id": "98e7684e",
   "metadata": {},
   "outputs": [],
   "source": [
    "import pandas as pd\n",
    "from pandas import ExcelWriter\n",
    "from pandas import ExcelFile\n",
    "from sklearn.linear_model import LinearRegression\n",
    "import matplotlib.pyplot as plt\n",
    "from sklearn.metrics import r2_score"
   ]
  },
  {
   "cell_type": "code",
   "execution_count": 90,
   "id": "46082ce8",
   "metadata": {
    "scrolled": true
   },
   "outputs": [
    {
     "data": {
      "text/html": [
       "<div>\n",
       "<style scoped>\n",
       "    .dataframe tbody tr th:only-of-type {\n",
       "        vertical-align: middle;\n",
       "    }\n",
       "\n",
       "    .dataframe tbody tr th {\n",
       "        vertical-align: top;\n",
       "    }\n",
       "\n",
       "    .dataframe thead th {\n",
       "        text-align: right;\n",
       "    }\n",
       "</style>\n",
       "<table border=\"1\" class=\"dataframe\">\n",
       "  <thead>\n",
       "    <tr style=\"text-align: right;\">\n",
       "      <th></th>\n",
       "      <th>la_code</th>\n",
       "      <th>la_name</th>\n",
       "      <th>number_of_schools</th>\n",
       "    </tr>\n",
       "  </thead>\n",
       "  <tbody>\n",
       "    <tr>\n",
       "      <th>2952</th>\n",
       "      <td>E08000010</td>\n",
       "      <td>Wigan</td>\n",
       "      <td>136</td>\n",
       "    </tr>\n",
       "    <tr>\n",
       "      <th>2953</th>\n",
       "      <td>E06000054</td>\n",
       "      <td>Wiltshire</td>\n",
       "      <td>261</td>\n",
       "    </tr>\n",
       "    <tr>\n",
       "      <th>2954</th>\n",
       "      <td>E10000007</td>\n",
       "      <td>Derbyshire</td>\n",
       "      <td>446</td>\n",
       "    </tr>\n",
       "    <tr>\n",
       "      <th>2955</th>\n",
       "      <td>E09000011</td>\n",
       "      <td>Greenwich</td>\n",
       "      <td>105</td>\n",
       "    </tr>\n",
       "    <tr>\n",
       "      <th>2956</th>\n",
       "      <td>E08000009</td>\n",
       "      <td>Trafford</td>\n",
       "      <td>103</td>\n",
       "    </tr>\n",
       "  </tbody>\n",
       "</table>\n",
       "</div>"
      ],
      "text/plain": [
       "        la_code     la_name  number_of_schools\n",
       "2952  E08000010       Wigan                136\n",
       "2953  E06000054   Wiltshire                261\n",
       "2954  E10000007  Derbyshire                446\n",
       "2955  E09000011   Greenwich                105\n",
       "2956  E08000009    Trafford                103"
      ]
     },
     "execution_count": 90,
     "metadata": {},
     "output_type": "execute_result"
    }
   ],
   "source": [
    "#read the data in from the schools dataset\n",
    "school_cols = [\"time_period\",\"new_la_code\", \"number_of_schools\", \"la_name\", \"Sex_of_school_description\", \"Phase-type_grouping\", \"TypeOfEstablishment_(name)\",\"Denomination\", \"Admissions_Policy\", \"Urban_rural\",\"Academy_flag\"]\n",
    "schools = pd.read_csv(\"spc_school_characteristics_20210727.csv\", usecols=school_cols)\n",
    "schools.rename(columns={\"new_la_code\":\"la_code\",\"Phase-type_grouping\": \"Phase_Grouping\", \"TypeOfEstablishment_(name)\":\"TypeOfEstablishment\"}, inplace=True)\n",
    "\n",
    "#retrieve only totals and \n",
    "schools = schools.query(\"time_period == 202021 &Sex_of_school_description == 'Total' & Phase_Grouping == 'Total' & TypeOfEstablishment == 'Total' & Admissions_Policy == 'Total' & Urban_rural == 'Total' & Academy_flag == 'Total' & Denomination == 'Total'\")\n",
    "\n",
    "#drop any rows with missing data\n",
    "schools = schools.dropna()\n",
    "\n",
    "#remove unnecessary columns\n",
    "schools = schools[[\"la_code\", \"la_name\", \"number_of_schools\"]].copy()\n",
    "schools.head()"
   ]
  },
  {
   "cell_type": "code",
   "execution_count": 91,
   "id": "95c383d2",
   "metadata": {
    "scrolled": true
   },
   "outputs": [
    {
     "data": {
      "text/html": [
       "<div>\n",
       "<style scoped>\n",
       "    .dataframe tbody tr th:only-of-type {\n",
       "        vertical-align: middle;\n",
       "    }\n",
       "\n",
       "    .dataframe tbody tr th {\n",
       "        vertical-align: top;\n",
       "    }\n",
       "\n",
       "    .dataframe thead th {\n",
       "        text-align: right;\n",
       "    }\n",
       "</style>\n",
       "<table border=\"1\" class=\"dataframe\">\n",
       "  <thead>\n",
       "    <tr style=\"text-align: right;\">\n",
       "      <th></th>\n",
       "      <th>la_code</th>\n",
       "      <th>LAD Name</th>\n",
       "      <th>productivity_index</th>\n",
       "    </tr>\n",
       "  </thead>\n",
       "  <tbody>\n",
       "    <tr>\n",
       "      <th>0</th>\n",
       "      <td>E06000001</td>\n",
       "      <td>Hartlepool</td>\n",
       "      <td>80.53</td>\n",
       "    </tr>\n",
       "    <tr>\n",
       "      <th>1</th>\n",
       "      <td>E06000002</td>\n",
       "      <td>Middlesbrough</td>\n",
       "      <td>83.35</td>\n",
       "    </tr>\n",
       "    <tr>\n",
       "      <th>2</th>\n",
       "      <td>E06000003</td>\n",
       "      <td>Redcar and Cleveland</td>\n",
       "      <td>75.50</td>\n",
       "    </tr>\n",
       "    <tr>\n",
       "      <th>3</th>\n",
       "      <td>E06000004</td>\n",
       "      <td>Stockton-on-Tees</td>\n",
       "      <td>97.78</td>\n",
       "    </tr>\n",
       "    <tr>\n",
       "      <th>4</th>\n",
       "      <td>E06000005</td>\n",
       "      <td>Darlington</td>\n",
       "      <td>92.95</td>\n",
       "    </tr>\n",
       "  </tbody>\n",
       "</table>\n",
       "</div>"
      ],
      "text/plain": [
       "     la_code              LAD Name  productivity_index\n",
       "0  E06000001            Hartlepool               80.53\n",
       "1  E06000002         Middlesbrough               83.35\n",
       "2  E06000003  Redcar and Cleveland               75.50\n",
       "3  E06000004      Stockton-on-Tees               97.78\n",
       "4  E06000005            Darlington               92.95"
      ]
     },
     "execution_count": 91,
     "metadata": {},
     "output_type": "execute_result"
    }
   ],
   "source": [
    "#read in data from labour productivity dataset\n",
    "labour_prod = pd.read_excel(\"ladproductivity.xls\", sheet_name=\"A1\", header=4, skipfooter=7, skiprows=[5], usecols=[0,1,17])\n",
    "\n",
    "#assign same column name for local authority code\n",
    "labour_prod.rename(columns={\"LAD Code\":\"la_code\", \"index.15\":\"productivity_index\"}, inplace=True)\n",
    "labour_prod.head()"
   ]
  },
  {
   "cell_type": "code",
   "execution_count": 92,
   "id": "c50ab2b1",
   "metadata": {},
   "outputs": [
    {
     "data": {
      "text/html": [
       "<div>\n",
       "<style scoped>\n",
       "    .dataframe tbody tr th:only-of-type {\n",
       "        vertical-align: middle;\n",
       "    }\n",
       "\n",
       "    .dataframe tbody tr th {\n",
       "        vertical-align: top;\n",
       "    }\n",
       "\n",
       "    .dataframe thead th {\n",
       "        text-align: right;\n",
       "    }\n",
       "</style>\n",
       "<table border=\"1\" class=\"dataframe\">\n",
       "  <thead>\n",
       "    <tr style=\"text-align: right;\">\n",
       "      <th></th>\n",
       "      <th>la_code</th>\n",
       "      <th>la_name</th>\n",
       "      <th>number_of_schools</th>\n",
       "      <th>LAD Name</th>\n",
       "      <th>productivity_index</th>\n",
       "    </tr>\n",
       "  </thead>\n",
       "  <tbody>\n",
       "    <tr>\n",
       "      <th>0</th>\n",
       "      <td>E08000010</td>\n",
       "      <td>Wigan</td>\n",
       "      <td>136</td>\n",
       "      <td>Wigan</td>\n",
       "      <td>77.16</td>\n",
       "    </tr>\n",
       "    <tr>\n",
       "      <th>1</th>\n",
       "      <td>E06000054</td>\n",
       "      <td>Wiltshire</td>\n",
       "      <td>261</td>\n",
       "      <td>Wiltshire</td>\n",
       "      <td>86.98</td>\n",
       "    </tr>\n",
       "    <tr>\n",
       "      <th>2</th>\n",
       "      <td>E09000011</td>\n",
       "      <td>Greenwich</td>\n",
       "      <td>105</td>\n",
       "      <td>Greenwich</td>\n",
       "      <td>109.37</td>\n",
       "    </tr>\n",
       "    <tr>\n",
       "      <th>3</th>\n",
       "      <td>E08000009</td>\n",
       "      <td>Trafford</td>\n",
       "      <td>103</td>\n",
       "      <td>Trafford</td>\n",
       "      <td>103.86</td>\n",
       "    </tr>\n",
       "    <tr>\n",
       "      <th>4</th>\n",
       "      <td>E06000044</td>\n",
       "      <td>Portsmouth</td>\n",
       "      <td>66</td>\n",
       "      <td>Portsmouth</td>\n",
       "      <td>97.90</td>\n",
       "    </tr>\n",
       "    <tr>\n",
       "      <th>...</th>\n",
       "      <td>...</td>\n",
       "      <td>...</td>\n",
       "      <td>...</td>\n",
       "      <td>...</td>\n",
       "      <td>...</td>\n",
       "    </tr>\n",
       "    <tr>\n",
       "      <th>118</th>\n",
       "      <td>E06000032</td>\n",
       "      <td>Luton</td>\n",
       "      <td>80</td>\n",
       "      <td>Luton</td>\n",
       "      <td>103.24</td>\n",
       "    </tr>\n",
       "    <tr>\n",
       "      <th>119</th>\n",
       "      <td>E08000022</td>\n",
       "      <td>North Tyneside</td>\n",
       "      <td>82</td>\n",
       "      <td>North Tyneside</td>\n",
       "      <td>90.45</td>\n",
       "    </tr>\n",
       "    <tr>\n",
       "      <th>120</th>\n",
       "      <td>E06000035</td>\n",
       "      <td>Medway</td>\n",
       "      <td>110</td>\n",
       "      <td>Medway</td>\n",
       "      <td>103.96</td>\n",
       "    </tr>\n",
       "    <tr>\n",
       "      <th>121</th>\n",
       "      <td>E09000014</td>\n",
       "      <td>Haringey</td>\n",
       "      <td>100</td>\n",
       "      <td>Haringey</td>\n",
       "      <td>91.37</td>\n",
       "    </tr>\n",
       "    <tr>\n",
       "      <th>122</th>\n",
       "      <td>E06000042</td>\n",
       "      <td>Milton Keynes</td>\n",
       "      <td>119</td>\n",
       "      <td>Milton Keynes</td>\n",
       "      <td>124.88</td>\n",
       "    </tr>\n",
       "  </tbody>\n",
       "</table>\n",
       "<p>123 rows × 5 columns</p>\n",
       "</div>"
      ],
      "text/plain": [
       "       la_code         la_name  number_of_schools        LAD Name  \\\n",
       "0    E08000010           Wigan                136           Wigan   \n",
       "1    E06000054       Wiltshire                261       Wiltshire   \n",
       "2    E09000011       Greenwich                105       Greenwich   \n",
       "3    E08000009        Trafford                103        Trafford   \n",
       "4    E06000044      Portsmouth                 66      Portsmouth   \n",
       "..         ...             ...                ...             ...   \n",
       "118  E06000032           Luton                 80           Luton   \n",
       "119  E08000022  North Tyneside                 82  North Tyneside   \n",
       "120  E06000035          Medway                110          Medway   \n",
       "121  E09000014        Haringey                100        Haringey   \n",
       "122  E06000042   Milton Keynes                119   Milton Keynes   \n",
       "\n",
       "     productivity_index  \n",
       "0                 77.16  \n",
       "1                 86.98  \n",
       "2                109.37  \n",
       "3                103.86  \n",
       "4                 97.90  \n",
       "..                  ...  \n",
       "118              103.24  \n",
       "119               90.45  \n",
       "120              103.96  \n",
       "121               91.37  \n",
       "122              124.88  \n",
       "\n",
       "[123 rows x 5 columns]"
      ]
     },
     "execution_count": 92,
     "metadata": {},
     "output_type": "execute_result"
    }
   ],
   "source": [
    "#merge schools and labour_prod data frame on la_code column\n",
    "\n",
    "schools_labour_prod = pd.merge(schools, labour_prod, on='la_code')\n",
    "schools_labour_prod"
   ]
  },
  {
   "cell_type": "markdown",
   "id": "b9321dc5",
   "metadata": {},
   "source": [
    "# Scatter Plot - # of Schools and Labour Productivity by Local Authority"
   ]
  },
  {
   "cell_type": "code",
   "execution_count": 93,
   "id": "64070cec",
   "metadata": {},
   "outputs": [
    {
     "data": {
      "text/plain": [
       "<AxesSubplot:xlabel='number_of_schools', ylabel='productivity_index'>"
      ]
     },
     "execution_count": 93,
     "metadata": {},
     "output_type": "execute_result"
    },
    {
     "data": {
      "image/png": "[encoded data removed]",
      "text/plain": [
       "<Figure size 432x288 with 1 Axes>"
      ]
     },
     "metadata": {
      "needs_background": "light"
     },
     "output_type": "display_data"
    }
   ],
   "source": [
    "#scatter plot of data\n",
    "schools_labour_prod.plot.scatter(x=\"number_of_schools\", y=\"productivity_index\")"
   ]
  },
  {
   "cell_type": "markdown",
   "id": "60ea7876",
   "metadata": {},
   "source": [
    "# Line of Best Fit - # of Schools and Labour Productivity by Local Authority\n",
    "There seems to be no real correlation between the number of schools in a local authority and its labour productivity up until the point at which the number of schools in a local authority exceeds 100"
   ]
  },
  {
   "cell_type": "code",
   "execution_count": 116,
   "id": "de878d22",
   "metadata": {},
   "outputs": [
    {
     "data": {
      "image/png": "[encoded data removed]",
      "text/plain": [
       "<Figure size 432x288 with 1 Axes>"
      ]
     },
     "metadata": {
      "needs_background": "light"
     },
     "output_type": "display_data"
    }
   ],
   "source": [
    "#perform some linear regression to find our line of best fit\n",
    "#convert columns to numpy arrays\n",
    "X = schools_labour_prod[\"number_of_schools\"].to_numpy().reshape(-1,1)\n",
    "Y = schools_labour_prod[\"productivity_index\"].to_numpy().reshape(-1,1)\n",
    "\n",
    "#instantiate linear regression object\n",
    "linear_regressor = LinearRegression()  # create object for the class\n",
    "linear_regressor.fit(X, Y)  # perform linear regression\n",
    "Y_pred = linear_regressor.predict(X)\n",
    "\n",
    "#show linear regression\n",
    "plt.scatter(X, Y)\n",
    "plt.plot(X, Y_pred, color='red')\n",
    "plt.show()"
   ]
  },
  {
   "cell_type": "code",
   "execution_count": 117,
   "id": "b73fbe70",
   "metadata": {},
   "outputs": [
    {
     "data": {
      "text/plain": [
       "0.045723155018254635"
      ]
     },
     "execution_count": 117,
     "metadata": {},
     "output_type": "execute_result"
    }
   ],
   "source": [
    "r2_score(Y, Y_pred)"
   ]
  },
  {
   "cell_type": "markdown",
   "id": "ba4f544c",
   "metadata": {},
   "source": [
    "# Let's control for population\n",
    "\n",
    "I'll be adding the population for each local authority so we can derive a new \"schools per capita\" column to compare labour productivity with"
   ]
  },
  {
   "cell_type": "code",
   "execution_count": 101,
   "id": "ad920076",
   "metadata": {},
   "outputs": [
    {
     "data": {
      "text/html": [
       "<div>\n",
       "<style scoped>\n",
       "    .dataframe tbody tr th:only-of-type {\n",
       "        vertical-align: middle;\n",
       "    }\n",
       "\n",
       "    .dataframe tbody tr th {\n",
       "        vertical-align: top;\n",
       "    }\n",
       "\n",
       "    .dataframe thead th {\n",
       "        text-align: right;\n",
       "    }\n",
       "</style>\n",
       "<table border=\"1\" class=\"dataframe\">\n",
       "  <thead>\n",
       "    <tr style=\"text-align: right;\">\n",
       "      <th></th>\n",
       "      <th>la_code</th>\n",
       "      <th>Name</th>\n",
       "      <th>Population</th>\n",
       "    </tr>\n",
       "  </thead>\n",
       "  <tbody>\n",
       "    <tr>\n",
       "      <th>0</th>\n",
       "      <td>K02000001</td>\n",
       "      <td>UNITED KINGDOM</td>\n",
       "      <td>67081234</td>\n",
       "    </tr>\n",
       "    <tr>\n",
       "      <th>1</th>\n",
       "      <td>K03000001</td>\n",
       "      <td>GREAT BRITAIN</td>\n",
       "      <td>65185724</td>\n",
       "    </tr>\n",
       "    <tr>\n",
       "      <th>2</th>\n",
       "      <td>K04000001</td>\n",
       "      <td>ENGLAND AND WALES</td>\n",
       "      <td>59719724</td>\n",
       "    </tr>\n",
       "    <tr>\n",
       "      <th>3</th>\n",
       "      <td>E92000001</td>\n",
       "      <td>ENGLAND</td>\n",
       "      <td>56550138</td>\n",
       "    </tr>\n",
       "    <tr>\n",
       "      <th>4</th>\n",
       "      <td>E12000001</td>\n",
       "      <td>NORTH EAST</td>\n",
       "      <td>2680763</td>\n",
       "    </tr>\n",
       "  </tbody>\n",
       "</table>\n",
       "</div>"
      ],
      "text/plain": [
       "     la_code               Name  Population\n",
       "0  K02000001     UNITED KINGDOM    67081234\n",
       "1  K03000001      GREAT BRITAIN    65185724\n",
       "2  K04000001  ENGLAND AND WALES    59719724\n",
       "3  E92000001            ENGLAND    56550138\n",
       "4  E12000001         NORTH EAST     2680763"
      ]
     },
     "execution_count": 101,
     "metadata": {},
     "output_type": "execute_result"
    }
   ],
   "source": [
    "#read in data from population dataset\n",
    "population = pd.read_excel(\"ukpopestimatesmid2020on2021geography.xls\", sheet_name=\"MYE4\", header=6, skipfooter=7, skiprows=[5], usecols=[0,1,3])\n",
    "\n",
    "#assign same column name for local authority code\n",
    "population.rename(columns={\"Code\":\"la_code\", \"Mid-2020\":\"Population\"}, inplace=True)\n",
    "\n",
    "population.head()"
   ]
  },
  {
   "cell_type": "code",
   "execution_count": 125,
   "id": "d95dffb0",
   "metadata": {},
   "outputs": [
    {
     "data": {
      "text/html": [
       "<div>\n",
       "<style scoped>\n",
       "    .dataframe tbody tr th:only-of-type {\n",
       "        vertical-align: middle;\n",
       "    }\n",
       "\n",
       "    .dataframe tbody tr th {\n",
       "        vertical-align: top;\n",
       "    }\n",
       "\n",
       "    .dataframe thead th {\n",
       "        text-align: right;\n",
       "    }\n",
       "</style>\n",
       "<table border=\"1\" class=\"dataframe\">\n",
       "  <thead>\n",
       "    <tr style=\"text-align: right;\">\n",
       "      <th></th>\n",
       "      <th>la_code</th>\n",
       "      <th>la_name</th>\n",
       "      <th>number_of_schools</th>\n",
       "      <th>LAD Name</th>\n",
       "      <th>productivity_index</th>\n",
       "      <th>Name</th>\n",
       "      <th>Population</th>\n",
       "      <th>schools_per_capita</th>\n",
       "    </tr>\n",
       "  </thead>\n",
       "  <tbody>\n",
       "    <tr>\n",
       "      <th>0</th>\n",
       "      <td>E08000010</td>\n",
       "      <td>Wigan</td>\n",
       "      <td>136</td>\n",
       "      <td>Wigan</td>\n",
       "      <td>77.16</td>\n",
       "      <td>Wigan</td>\n",
       "      <td>330712</td>\n",
       "      <td>0.000411</td>\n",
       "    </tr>\n",
       "    <tr>\n",
       "      <th>1</th>\n",
       "      <td>E06000054</td>\n",
       "      <td>Wiltshire</td>\n",
       "      <td>261</td>\n",
       "      <td>Wiltshire</td>\n",
       "      <td>86.98</td>\n",
       "      <td>Wiltshire</td>\n",
       "      <td>504070</td>\n",
       "      <td>0.000518</td>\n",
       "    </tr>\n",
       "    <tr>\n",
       "      <th>2</th>\n",
       "      <td>E09000011</td>\n",
       "      <td>Greenwich</td>\n",
       "      <td>105</td>\n",
       "      <td>Greenwich</td>\n",
       "      <td>109.37</td>\n",
       "      <td>Greenwich</td>\n",
       "      <td>289034</td>\n",
       "      <td>0.000363</td>\n",
       "    </tr>\n",
       "    <tr>\n",
       "      <th>3</th>\n",
       "      <td>E08000009</td>\n",
       "      <td>Trafford</td>\n",
       "      <td>103</td>\n",
       "      <td>Trafford</td>\n",
       "      <td>103.86</td>\n",
       "      <td>Trafford</td>\n",
       "      <td>237579</td>\n",
       "      <td>0.000434</td>\n",
       "    </tr>\n",
       "    <tr>\n",
       "      <th>4</th>\n",
       "      <td>E06000044</td>\n",
       "      <td>Portsmouth</td>\n",
       "      <td>66</td>\n",
       "      <td>Portsmouth</td>\n",
       "      <td>97.90</td>\n",
       "      <td>Portsmouth</td>\n",
       "      <td>214692</td>\n",
       "      <td>0.000307</td>\n",
       "    </tr>\n",
       "    <tr>\n",
       "      <th>...</th>\n",
       "      <td>...</td>\n",
       "      <td>...</td>\n",
       "      <td>...</td>\n",
       "      <td>...</td>\n",
       "      <td>...</td>\n",
       "      <td>...</td>\n",
       "      <td>...</td>\n",
       "      <td>...</td>\n",
       "    </tr>\n",
       "    <tr>\n",
       "      <th>118</th>\n",
       "      <td>E06000032</td>\n",
       "      <td>Luton</td>\n",
       "      <td>80</td>\n",
       "      <td>Luton</td>\n",
       "      <td>103.24</td>\n",
       "      <td>Luton</td>\n",
       "      <td>213528</td>\n",
       "      <td>0.000375</td>\n",
       "    </tr>\n",
       "    <tr>\n",
       "      <th>119</th>\n",
       "      <td>E08000022</td>\n",
       "      <td>North Tyneside</td>\n",
       "      <td>82</td>\n",
       "      <td>North Tyneside</td>\n",
       "      <td>90.45</td>\n",
       "      <td>North Tyneside</td>\n",
       "      <td>208871</td>\n",
       "      <td>0.000393</td>\n",
       "    </tr>\n",
       "    <tr>\n",
       "      <th>120</th>\n",
       "      <td>E06000035</td>\n",
       "      <td>Medway</td>\n",
       "      <td>110</td>\n",
       "      <td>Medway</td>\n",
       "      <td>103.96</td>\n",
       "      <td>Medway</td>\n",
       "      <td>279142</td>\n",
       "      <td>0.000394</td>\n",
       "    </tr>\n",
       "    <tr>\n",
       "      <th>121</th>\n",
       "      <td>E09000014</td>\n",
       "      <td>Haringey</td>\n",
       "      <td>100</td>\n",
       "      <td>Haringey</td>\n",
       "      <td>91.37</td>\n",
       "      <td>Haringey</td>\n",
       "      <td>266357</td>\n",
       "      <td>0.000375</td>\n",
       "    </tr>\n",
       "    <tr>\n",
       "      <th>122</th>\n",
       "      <td>E06000042</td>\n",
       "      <td>Milton Keynes</td>\n",
       "      <td>119</td>\n",
       "      <td>Milton Keynes</td>\n",
       "      <td>124.88</td>\n",
       "      <td>Milton Keynes</td>\n",
       "      <td>270203</td>\n",
       "      <td>0.000440</td>\n",
       "    </tr>\n",
       "  </tbody>\n",
       "</table>\n",
       "<p>123 rows × 8 columns</p>\n",
       "</div>"
      ],
      "text/plain": [
       "       la_code         la_name  number_of_schools        LAD Name  \\\n",
       "0    E08000010           Wigan                136           Wigan   \n",
       "1    E06000054       Wiltshire                261       Wiltshire   \n",
       "2    E09000011       Greenwich                105       Greenwich   \n",
       "3    E08000009        Trafford                103        Trafford   \n",
       "4    E06000044      Portsmouth                 66      Portsmouth   \n",
       "..         ...             ...                ...             ...   \n",
       "118  E06000032           Luton                 80           Luton   \n",
       "119  E08000022  North Tyneside                 82  North Tyneside   \n",
       "120  E06000035          Medway                110          Medway   \n",
       "121  E09000014        Haringey                100        Haringey   \n",
       "122  E06000042   Milton Keynes                119   Milton Keynes   \n",
       "\n",
       "     productivity_index            Name  Population  schools_per_capita  \n",
       "0                 77.16           Wigan      330712            0.000411  \n",
       "1                 86.98       Wiltshire      504070            0.000518  \n",
       "2                109.37       Greenwich      289034            0.000363  \n",
       "3                103.86        Trafford      237579            0.000434  \n",
       "4                 97.90      Portsmouth      214692            0.000307  \n",
       "..                  ...             ...         ...                 ...  \n",
       "118              103.24           Luton      213528            0.000375  \n",
       "119               90.45  North Tyneside      208871            0.000393  \n",
       "120              103.96          Medway      279142            0.000394  \n",
       "121               91.37        Haringey      266357            0.000375  \n",
       "122              124.88   Milton Keynes      270203            0.000440  \n",
       "\n",
       "[123 rows x 8 columns]"
      ]
     },
     "execution_count": 125,
     "metadata": {},
     "output_type": "execute_result"
    }
   ],
   "source": [
    "#merge population and school_labour_prod datasets\n",
    "\n",
    "schools_per_cap_labour_prod = pd.merge(schools_labour_prod, population, on='la_code')\n",
    "\n",
    "#derive schools per capita column\n",
    "schools_per_cap_labour_prod['schools_per_capita'] = schools_per_cap_labour_prod['number_of_schools'] / schools_per_cap_labour_prod['Population']\n",
    "\n",
    "schools_per_cap_labour_prod"
   ]
  },
  {
   "cell_type": "markdown",
   "id": "2c3e07c2",
   "metadata": {},
   "source": [
    "# Scatter Plot - Schools per capita and Labour Productivity by Local Authority"
   ]
  },
  {
   "cell_type": "code",
   "execution_count": 126,
   "id": "89973dd7",
   "metadata": {},
   "outputs": [
    {
     "data": {
      "text/plain": [
       "<AxesSubplot:xlabel='schools_per_capita', ylabel='productivity_index'>"
      ]
     },
     "execution_count": 126,
     "metadata": {},
     "output_type": "execute_result"
    },
    {
     "data": {
      "image/png": "[encoded data removed]",
      "text/plain": [
       "<Figure size 432x288 with 1 Axes>"
      ]
     },
     "metadata": {
      "needs_background": "light"
     },
     "output_type": "display_data"
    }
   ],
   "source": [
    "#Let's see if there is some correlation now\n",
    "\n",
    "schools_per_cap_labour_prod.plot.scatter(x=\"schools_per_capita\", y=\"productivity_index\")"
   ]
  },
  {
   "cell_type": "markdown",
   "id": "28bd96f9",
   "metadata": {},
   "source": [
    "# Linear Regression - Schools per capita and Labour Productivity by Local Authority\n",
    "\n",
    "Based on the R^2 score, schools per capita does not seem to be a determining factor for labour productivity for a certain area"
   ]
  },
  {
   "cell_type": "code",
   "execution_count": 127,
   "id": "cfb3a971",
   "metadata": {},
   "outputs": [
    {
     "data": {
      "image/png": "[encoded data removed]",
      "text/plain": [
       "<Figure size 432x288 with 1 Axes>"
      ]
     },
     "metadata": {
      "needs_background": "light"
     },
     "output_type": "display_data"
    }
   ],
   "source": [
    "#perform some linear regression to find our line of best fit\n",
    "#convert columns to numpy arrays\n",
    "X = schools_per_cap_labour_prod[\"schools_per_capita\"].to_numpy().reshape(-1,1)\n",
    "Y = schools_per_cap_labour_prod[\"productivity_index\"].to_numpy().reshape(-1,1)\n",
    "\n",
    "#instantiate linear regression object\n",
    "linear_regressor = LinearRegression()  # create object for the class\n",
    "linear_regressor.fit(X, Y)  # perform linear regression\n",
    "Y_pred = linear_regressor.predict(X)\n",
    "\n",
    "#show linear regression\n",
    "plt.scatter(X, Y)\n",
    "plt.plot(X, Y_pred, color='red')\n",
    "plt.xlabel(\"Schools per capita\")\n",
    "plt.ylabel(\"Labour productivity\")\n",
    "plt.show()"
   ]
  },
  {
   "cell_type": "code",
   "execution_count": 128,
   "id": "7c493668",
   "metadata": {},
   "outputs": [
    {
     "data": {
      "text/plain": [
       "0.029908559721389838"
      ]
     },
     "execution_count": 128,
     "metadata": {},
     "output_type": "execute_result"
    }
   ],
   "source": [
    "r2_score(Y, Y_pred)"
   ]
  },
  {
   "cell_type": "markdown",
   "id": "7f7ab4b2",
   "metadata": {},
   "source": [
    "# Unemployment Rates and Schools per Capita"
   ]
  },
  {
   "cell_type": "code",
   "execution_count": 142,
   "id": "ffae8e43",
   "metadata": {},
   "outputs": [
    {
     "data": {
      "text/html": [
       "<div>\n",
       "<style scoped>\n",
       "    .dataframe tbody tr th:only-of-type {\n",
       "        vertical-align: middle;\n",
       "    }\n",
       "\n",
       "    .dataframe tbody tr th {\n",
       "        vertical-align: top;\n",
       "    }\n",
       "\n",
       "    .dataframe thead th {\n",
       "        text-align: right;\n",
       "    }\n",
       "</style>\n",
       "<table border=\"1\" class=\"dataframe\">\n",
       "  <thead>\n",
       "    <tr style=\"text-align: right;\">\n",
       "      <th></th>\n",
       "      <th>UALAD</th>\n",
       "      <th>la_code</th>\n",
       "      <th>Unemployment Rate</th>\n",
       "    </tr>\n",
       "  </thead>\n",
       "  <tbody>\n",
       "    <tr>\n",
       "      <th>0</th>\n",
       "      <td>County Durham</td>\n",
       "      <td>E06000047</td>\n",
       "      <td>6.200000</td>\n",
       "    </tr>\n",
       "    <tr>\n",
       "      <th>1</th>\n",
       "      <td>Darlington</td>\n",
       "      <td>E06000005</td>\n",
       "      <td>5.802378</td>\n",
       "    </tr>\n",
       "    <tr>\n",
       "      <th>2</th>\n",
       "      <td>Hartlepool</td>\n",
       "      <td>E06000001</td>\n",
       "      <td>7.941371</td>\n",
       "    </tr>\n",
       "    <tr>\n",
       "      <th>3</th>\n",
       "      <td>Middlesbrough</td>\n",
       "      <td>E06000002</td>\n",
       "      <td>7.499282</td>\n",
       "    </tr>\n",
       "    <tr>\n",
       "      <th>4</th>\n",
       "      <td>Northumberland</td>\n",
       "      <td>E06000057</td>\n",
       "      <td>5.700000</td>\n",
       "    </tr>\n",
       "    <tr>\n",
       "      <th>...</th>\n",
       "      <td>...</td>\n",
       "      <td>...</td>\n",
       "      <td>...</td>\n",
       "    </tr>\n",
       "    <tr>\n",
       "      <th>365</th>\n",
       "      <td>South Ayrshire</td>\n",
       "      <td>S12000028</td>\n",
       "      <td>4.896814</td>\n",
       "    </tr>\n",
       "    <tr>\n",
       "      <th>366</th>\n",
       "      <td>South Lanarkshire</td>\n",
       "      <td>S12000029</td>\n",
       "      <td>4.421403</td>\n",
       "    </tr>\n",
       "    <tr>\n",
       "      <th>367</th>\n",
       "      <td>Stirling</td>\n",
       "      <td>S12000030</td>\n",
       "      <td>4.356094</td>\n",
       "    </tr>\n",
       "    <tr>\n",
       "      <th>368</th>\n",
       "      <td>West Dunbartonshire</td>\n",
       "      <td>S12000039</td>\n",
       "      <td>5.098213</td>\n",
       "    </tr>\n",
       "    <tr>\n",
       "      <th>369</th>\n",
       "      <td>West Lothian</td>\n",
       "      <td>S12000040</td>\n",
       "      <td>4.267695</td>\n",
       "    </tr>\n",
       "  </tbody>\n",
       "</table>\n",
       "<p>370 rows × 3 columns</p>\n",
       "</div>"
      ],
      "text/plain": [
       "                   UALAD    la_code  Unemployment Rate\n",
       "0          County Durham  E06000047           6.200000\n",
       "1             Darlington  E06000005           5.802378\n",
       "2             Hartlepool  E06000001           7.941371\n",
       "3          Middlesbrough  E06000002           7.499282\n",
       "4         Northumberland  E06000057           5.700000\n",
       "..                   ...        ...                ...\n",
       "365       South Ayrshire  S12000028           4.896814\n",
       "366    South Lanarkshire  S12000029           4.421403\n",
       "367             Stirling  S12000030           4.356094\n",
       "368  West Dunbartonshire  S12000039           5.098213\n",
       "369         West Lothian  S12000040           4.267695\n",
       "\n",
       "[370 rows x 3 columns]"
      ]
     },
     "execution_count": 142,
     "metadata": {},
     "output_type": "execute_result"
    }
   ],
   "source": [
    "# Get data from unemployment excel file\n",
    "unemployment = pd.read_excel(\"modelbasedunemploymentdata.xls\", sheet_name=\"LA,UA Rates\", header=2, skipfooter=9, skiprows=[3,4], usecols=[0,1,225])\n",
    "\n",
    "unemployment.rename(columns={\"Unnamed: 1\":\"la_code\", \"Jul 2020 to Jun 2021\":\"Unemployment Rate\"}, inplace=True)\n",
    "unemployment"
   ]
  },
  {
   "cell_type": "code",
   "execution_count": 146,
   "id": "c5c5a443",
   "metadata": {
    "scrolled": true
   },
   "outputs": [
    {
     "data": {
      "text/html": [
       "<div>\n",
       "<style scoped>\n",
       "    .dataframe tbody tr th:only-of-type {\n",
       "        vertical-align: middle;\n",
       "    }\n",
       "\n",
       "    .dataframe tbody tr th {\n",
       "        vertical-align: top;\n",
       "    }\n",
       "\n",
       "    .dataframe thead th {\n",
       "        text-align: right;\n",
       "    }\n",
       "</style>\n",
       "<table border=\"1\" class=\"dataframe\">\n",
       "  <thead>\n",
       "    <tr style=\"text-align: right;\">\n",
       "      <th></th>\n",
       "      <th>la_code</th>\n",
       "      <th>la_name</th>\n",
       "      <th>number_of_schools</th>\n",
       "      <th>UALAD</th>\n",
       "      <th>Unemployment Rate</th>\n",
       "      <th>Name</th>\n",
       "      <th>Population</th>\n",
       "      <th>schools_per_capita</th>\n",
       "    </tr>\n",
       "  </thead>\n",
       "  <tbody>\n",
       "    <tr>\n",
       "      <th>0</th>\n",
       "      <td>E08000010</td>\n",
       "      <td>Wigan</td>\n",
       "      <td>136</td>\n",
       "      <td>Wigan</td>\n",
       "      <td>4.328324</td>\n",
       "      <td>Wigan</td>\n",
       "      <td>330712</td>\n",
       "      <td>0.000411</td>\n",
       "    </tr>\n",
       "    <tr>\n",
       "      <th>1</th>\n",
       "      <td>E06000054</td>\n",
       "      <td>Wiltshire</td>\n",
       "      <td>261</td>\n",
       "      <td>Wiltshire</td>\n",
       "      <td>3.100000</td>\n",
       "      <td>Wiltshire</td>\n",
       "      <td>504070</td>\n",
       "      <td>0.000518</td>\n",
       "    </tr>\n",
       "    <tr>\n",
       "      <th>2</th>\n",
       "      <td>E09000011</td>\n",
       "      <td>Greenwich</td>\n",
       "      <td>105</td>\n",
       "      <td>Greenwich</td>\n",
       "      <td>6.577925</td>\n",
       "      <td>Greenwich</td>\n",
       "      <td>289034</td>\n",
       "      <td>0.000363</td>\n",
       "    </tr>\n",
       "    <tr>\n",
       "      <th>3</th>\n",
       "      <td>E08000009</td>\n",
       "      <td>Trafford</td>\n",
       "      <td>103</td>\n",
       "      <td>Trafford</td>\n",
       "      <td>4.403807</td>\n",
       "      <td>Trafford</td>\n",
       "      <td>237579</td>\n",
       "      <td>0.000434</td>\n",
       "    </tr>\n",
       "    <tr>\n",
       "      <th>4</th>\n",
       "      <td>E06000044</td>\n",
       "      <td>Portsmouth</td>\n",
       "      <td>66</td>\n",
       "      <td>Portsmouth</td>\n",
       "      <td>5.196324</td>\n",
       "      <td>Portsmouth</td>\n",
       "      <td>214692</td>\n",
       "      <td>0.000307</td>\n",
       "    </tr>\n",
       "  </tbody>\n",
       "</table>\n",
       "</div>"
      ],
      "text/plain": [
       "     la_code     la_name  number_of_schools       UALAD  Unemployment Rate  \\\n",
       "0  E08000010       Wigan                136       Wigan           4.328324   \n",
       "1  E06000054   Wiltshire                261   Wiltshire           3.100000   \n",
       "2  E09000011   Greenwich                105   Greenwich           6.577925   \n",
       "3  E08000009    Trafford                103    Trafford           4.403807   \n",
       "4  E06000044  Portsmouth                 66  Portsmouth           5.196324   \n",
       "\n",
       "         Name  Population  schools_per_capita  \n",
       "0       Wigan      330712            0.000411  \n",
       "1   Wiltshire      504070            0.000518  \n",
       "2   Greenwich      289034            0.000363  \n",
       "3    Trafford      237579            0.000434  \n",
       "4  Portsmouth      214692            0.000307  "
      ]
     },
     "execution_count": 146,
     "metadata": {},
     "output_type": "execute_result"
    }
   ],
   "source": [
    "# merge with schools and population datasets\n",
    "\n",
    "unemployment_schools = pd.merge(schools, unemployment, on='la_code')\n",
    "unemployment_schools_percap = pd.merge(unemployment_schools, population, on='la_code')\n",
    "\n",
    "#add per capita column\n",
    "unemployment_schools_percap['schools_per_capita'] = unemployment_schools_percap['number_of_schools'] / unemployment_schools_percap['Population']\n",
    "unemployment_schools_percap.head()"
   ]
  },
  {
   "cell_type": "markdown",
   "id": "3af7816d",
   "metadata": {},
   "source": [
    "# Scatter Plot - Schools per capita and Labour Productivity by Local Authority"
   ]
  },
  {
   "cell_type": "code",
   "execution_count": 147,
   "id": "fdad5728",
   "metadata": {},
   "outputs": [
    {
     "data": {
      "text/plain": [
       "<AxesSubplot:xlabel='schools_per_capita', ylabel='Unemployment Rate'>"
      ]
     },
     "execution_count": 147,
     "metadata": {},
     "output_type": "execute_result"
    },
    {
     "data": {
      "image/png": "[encoded data removed]",
      "text/plain": [
       "<Figure size 432x288 with 1 Axes>"
      ]
     },
     "metadata": {
      "needs_background": "light"
     },
     "output_type": "display_data"
    }
   ],
   "source": [
    "unemployment_schools_percap.plot.scatter(x=\"schools_per_capita\", y=\"Unemployment Rate\")"
   ]
  },
  {
   "cell_type": "markdown",
   "id": "8071efbd",
   "metadata": {},
   "source": [
    "# Linear Regression - Schools per capita and Labour Productivity by Local Authority\n",
    "\n",
    "There seems to actually be some level of correlation between the schools per capita in an area and the unemployment rate. The R^2 score is over 4 times higher"
   ]
  },
  {
   "cell_type": "code",
   "execution_count": 148,
   "id": "7833396a",
   "metadata": {
    "scrolled": true
   },
   "outputs": [
    {
     "data": {
      "image/png": "[encoded data removed]",
      "text/plain": [
       "<Figure size 432x288 with 1 Axes>"
      ]
     },
     "metadata": {
      "needs_background": "light"
     },
     "output_type": "display_data"
    }
   ],
   "source": [
    "#perform some linear regression to find our line of best fit\n",
    "#convert columns to numpy arrays\n",
    "X = unemployment_schools_percap[\"schools_per_capita\"].to_numpy().reshape(-1,1)\n",
    "Y = unemployment_schools_percap[\"Unemployment Rate\"].to_numpy().reshape(-1,1)\n",
    "\n",
    "#instantiate linear regression object\n",
    "linear_regressor = LinearRegression()  # create object for the class\n",
    "linear_regressor.fit(X, Y)  # perform linear regression\n",
    "Y_pred = linear_regressor.predict(X)\n",
    "\n",
    "#show linear regression\n",
    "plt.scatter(X, Y)\n",
    "plt.plot(X, Y_pred, color='red')\n",
    "plt.xlabel(\"Schools per capita\")\n",
    "plt.ylabel(\"Unemployment Rate\")\n",
    "plt.show()"
   ]
  },
  {
   "cell_type": "code",
   "execution_count": 149,
   "id": "92f3447f",
   "metadata": {},
   "outputs": [
    {
     "data": {
      "text/plain": [
       "0.1729253195062107"
      ]
     },
     "execution_count": 149,
     "metadata": {},
     "output_type": "execute_result"
    }
   ],
   "source": [
    "r2_score(Y, Y_pred)"
   ]
  },
  {
   "cell_type": "markdown",
   "id": "833dc6a8",
   "metadata": {},
   "source": [
    "# Crimes Reported per 1000 and Schools per Capita"
   ]
  },
  {
   "cell_type": "code",
   "execution_count": 199,
   "id": "e98b2022",
   "metadata": {},
   "outputs": [
    {
     "data": {
      "text/html": [
       "<div>\n",
       "<style scoped>\n",
       "    .dataframe tbody tr th:only-of-type {\n",
       "        vertical-align: middle;\n",
       "    }\n",
       "\n",
       "    .dataframe tbody tr th {\n",
       "        vertical-align: top;\n",
       "    }\n",
       "\n",
       "    .dataframe thead th {\n",
       "        text-align: right;\n",
       "    }\n",
       "</style>\n",
       "<table border=\"1\" class=\"dataframe\">\n",
       "  <thead>\n",
       "    <tr style=\"text-align: right;\">\n",
       "      <th></th>\n",
       "      <th>la_code</th>\n",
       "      <th>Local Authority name</th>\n",
       "      <th>crimes_per_1000</th>\n",
       "    </tr>\n",
       "  </thead>\n",
       "  <tbody>\n",
       "    <tr>\n",
       "      <th>1</th>\n",
       "      <td>E06000022</td>\n",
       "      <td>Bath and North East Somerset</td>\n",
       "      <td>54.619902</td>\n",
       "    </tr>\n",
       "    <tr>\n",
       "      <th>2</th>\n",
       "      <td>E06000023</td>\n",
       "      <td>Bristol, City of</td>\n",
       "      <td>104.448489</td>\n",
       "    </tr>\n",
       "    <tr>\n",
       "      <th>3</th>\n",
       "      <td>E06000024</td>\n",
       "      <td>North Somerset</td>\n",
       "      <td>62.410124</td>\n",
       "    </tr>\n",
       "    <tr>\n",
       "      <th>5</th>\n",
       "      <td>E06000025</td>\n",
       "      <td>South Gloucestershire</td>\n",
       "      <td>54.545265</td>\n",
       "    </tr>\n",
       "    <tr>\n",
       "      <th>8</th>\n",
       "      <td>E06000055</td>\n",
       "      <td>Bedford</td>\n",
       "      <td>81.637443</td>\n",
       "    </tr>\n",
       "    <tr>\n",
       "      <th>...</th>\n",
       "      <td>...</td>\n",
       "      <td>...</td>\n",
       "      <td>...</td>\n",
       "    </tr>\n",
       "    <tr>\n",
       "      <th>387</th>\n",
       "      <td>E08000034</td>\n",
       "      <td>Kirklees</td>\n",
       "      <td>93.124703</td>\n",
       "    </tr>\n",
       "    <tr>\n",
       "      <th>388</th>\n",
       "      <td>E08000035</td>\n",
       "      <td>Leeds</td>\n",
       "      <td>116.350312</td>\n",
       "    </tr>\n",
       "    <tr>\n",
       "      <th>390</th>\n",
       "      <td>E08000036</td>\n",
       "      <td>Wakefield</td>\n",
       "      <td>107.820997</td>\n",
       "    </tr>\n",
       "    <tr>\n",
       "      <th>392</th>\n",
       "      <td>E06000030</td>\n",
       "      <td>Swindon</td>\n",
       "      <td>66.23714</td>\n",
       "    </tr>\n",
       "    <tr>\n",
       "      <th>393</th>\n",
       "      <td>E06000054</td>\n",
       "      <td>Wiltshire</td>\n",
       "      <td>46.451882</td>\n",
       "    </tr>\n",
       "  </tbody>\n",
       "</table>\n",
       "<p>282 rows × 3 columns</p>\n",
       "</div>"
      ],
      "text/plain": [
       "       la_code          Local Authority name crimes_per_1000\n",
       "1    E06000022  Bath and North East Somerset       54.619902\n",
       "2    E06000023             Bristol, City of       104.448489\n",
       "3    E06000024                North Somerset       62.410124\n",
       "5    E06000025         South Gloucestershire       54.545265\n",
       "8    E06000055                       Bedford       81.637443\n",
       "..         ...                           ...             ...\n",
       "387  E08000034                      Kirklees       93.124703\n",
       "388  E08000035                         Leeds      116.350312\n",
       "390  E08000036                     Wakefield      107.820997\n",
       "392  E06000030                       Swindon        66.23714\n",
       "393  E06000054                     Wiltshire       46.451882\n",
       "\n",
       "[282 rows x 3 columns]"
      ]
     },
     "execution_count": 199,
     "metadata": {},
     "output_type": "execute_result"
    }
   ],
   "source": [
    "# Get data from crimes reported excel file\n",
    "crimes_reported = pd.read_excel(\"csptablejune21final.xlsx\", sheet_name=\"Table C5\", header=5, usecols=[4,5,8])\n",
    "\n",
    "crimes_reported.rename(columns={\"Local Authority code\":\"la_code\", \"Total recorded crime\\n (excluding fraud)\":\"crimes_per_1000\"}, inplace=True)\n",
    "unemployment\n",
    "\n",
    "crimes_reported = crimes_reported.dropna()\n",
    "\n",
    "#remove rows with blank crimes recorded\n",
    "\n",
    "crimes_reported = crimes_reported.query(\"crimes_per_1000 != '[x]' & crimes_per_1000 != '[u1]' \")\n",
    "\n",
    "crimes_reported"
   ]
  },
  {
   "cell_type": "code",
   "execution_count": 200,
   "id": "abc0b16e",
   "metadata": {},
   "outputs": [
    {
     "data": {
      "text/html": [
       "<div>\n",
       "<style scoped>\n",
       "    .dataframe tbody tr th:only-of-type {\n",
       "        vertical-align: middle;\n",
       "    }\n",
       "\n",
       "    .dataframe tbody tr th {\n",
       "        vertical-align: top;\n",
       "    }\n",
       "\n",
       "    .dataframe thead th {\n",
       "        text-align: right;\n",
       "    }\n",
       "</style>\n",
       "<table border=\"1\" class=\"dataframe\">\n",
       "  <thead>\n",
       "    <tr style=\"text-align: right;\">\n",
       "      <th></th>\n",
       "      <th>la_code</th>\n",
       "      <th>la_name</th>\n",
       "      <th>number_of_schools</th>\n",
       "      <th>Local Authority name</th>\n",
       "      <th>crimes_per_1000</th>\n",
       "      <th>Name</th>\n",
       "      <th>Population</th>\n",
       "      <th>schools_per_capita</th>\n",
       "    </tr>\n",
       "  </thead>\n",
       "  <tbody>\n",
       "    <tr>\n",
       "      <th>0</th>\n",
       "      <td>E06000054</td>\n",
       "      <td>Wiltshire</td>\n",
       "      <td>261</td>\n",
       "      <td>Wiltshire</td>\n",
       "      <td>46.451882</td>\n",
       "      <td>Wiltshire</td>\n",
       "      <td>504070</td>\n",
       "      <td>0.000518</td>\n",
       "    </tr>\n",
       "    <tr>\n",
       "      <th>1</th>\n",
       "      <td>E09000011</td>\n",
       "      <td>Greenwich</td>\n",
       "      <td>105</td>\n",
       "      <td>Greenwich</td>\n",
       "      <td>89.089865</td>\n",
       "      <td>Greenwich</td>\n",
       "      <td>289034</td>\n",
       "      <td>0.000363</td>\n",
       "    </tr>\n",
       "    <tr>\n",
       "      <th>2</th>\n",
       "      <td>E06000044</td>\n",
       "      <td>Portsmouth</td>\n",
       "      <td>66</td>\n",
       "      <td>Portsmouth</td>\n",
       "      <td>114.144915</td>\n",
       "      <td>Portsmouth</td>\n",
       "      <td>214692</td>\n",
       "      <td>0.000307</td>\n",
       "    </tr>\n",
       "    <tr>\n",
       "      <th>3</th>\n",
       "      <td>E06000052</td>\n",
       "      <td>Cornwall</td>\n",
       "      <td>290</td>\n",
       "      <td>Cornwall</td>\n",
       "      <td>47.530172</td>\n",
       "      <td>Cornwall</td>\n",
       "      <td>573299</td>\n",
       "      <td>0.000506</td>\n",
       "    </tr>\n",
       "    <tr>\n",
       "      <th>4</th>\n",
       "      <td>E06000031</td>\n",
       "      <td>Peterborough</td>\n",
       "      <td>83</td>\n",
       "      <td>Peterborough</td>\n",
       "      <td>101.206163</td>\n",
       "      <td>Peterborough</td>\n",
       "      <td>202626</td>\n",
       "      <td>0.000410</td>\n",
       "    </tr>\n",
       "    <tr>\n",
       "      <th>...</th>\n",
       "      <td>...</td>\n",
       "      <td>...</td>\n",
       "      <td>...</td>\n",
       "      <td>...</td>\n",
       "      <td>...</td>\n",
       "      <td>...</td>\n",
       "      <td>...</td>\n",
       "      <td>...</td>\n",
       "    </tr>\n",
       "    <tr>\n",
       "      <th>105</th>\n",
       "      <td>E06000032</td>\n",
       "      <td>Luton</td>\n",
       "      <td>80</td>\n",
       "      <td>Luton</td>\n",
       "      <td>86.452362</td>\n",
       "      <td>Luton</td>\n",
       "      <td>213528</td>\n",
       "      <td>0.000375</td>\n",
       "    </tr>\n",
       "    <tr>\n",
       "      <th>106</th>\n",
       "      <td>E08000022</td>\n",
       "      <td>North Tyneside</td>\n",
       "      <td>82</td>\n",
       "      <td>North Tyneside</td>\n",
       "      <td>85.976512</td>\n",
       "      <td>North Tyneside</td>\n",
       "      <td>208871</td>\n",
       "      <td>0.000393</td>\n",
       "    </tr>\n",
       "    <tr>\n",
       "      <th>107</th>\n",
       "      <td>E06000035</td>\n",
       "      <td>Medway</td>\n",
       "      <td>110</td>\n",
       "      <td>Medway</td>\n",
       "      <td>109.990614</td>\n",
       "      <td>Medway</td>\n",
       "      <td>279142</td>\n",
       "      <td>0.000394</td>\n",
       "    </tr>\n",
       "    <tr>\n",
       "      <th>108</th>\n",
       "      <td>E09000014</td>\n",
       "      <td>Haringey</td>\n",
       "      <td>100</td>\n",
       "      <td>Haringey</td>\n",
       "      <td>107.277076</td>\n",
       "      <td>Haringey</td>\n",
       "      <td>266357</td>\n",
       "      <td>0.000375</td>\n",
       "    </tr>\n",
       "    <tr>\n",
       "      <th>109</th>\n",
       "      <td>E06000042</td>\n",
       "      <td>Milton Keynes</td>\n",
       "      <td>119</td>\n",
       "      <td>Milton Keynes</td>\n",
       "      <td>85.550494</td>\n",
       "      <td>Milton Keynes</td>\n",
       "      <td>270203</td>\n",
       "      <td>0.000440</td>\n",
       "    </tr>\n",
       "  </tbody>\n",
       "</table>\n",
       "<p>110 rows × 8 columns</p>\n",
       "</div>"
      ],
      "text/plain": [
       "       la_code         la_name  number_of_schools Local Authority name  \\\n",
       "0    E06000054       Wiltshire                261            Wiltshire   \n",
       "1    E09000011       Greenwich                105            Greenwich   \n",
       "2    E06000044      Portsmouth                 66           Portsmouth   \n",
       "3    E06000052        Cornwall                290             Cornwall   \n",
       "4    E06000031    Peterborough                 83         Peterborough   \n",
       "..         ...             ...                ...                  ...   \n",
       "105  E06000032           Luton                 80                Luton   \n",
       "106  E08000022  North Tyneside                 82       North Tyneside   \n",
       "107  E06000035          Medway                110               Medway   \n",
       "108  E09000014        Haringey                100             Haringey   \n",
       "109  E06000042   Milton Keynes                119        Milton Keynes   \n",
       "\n",
       "    crimes_per_1000            Name  Population  schools_per_capita  \n",
       "0         46.451882       Wiltshire      504070            0.000518  \n",
       "1         89.089865       Greenwich      289034            0.000363  \n",
       "2        114.144915      Portsmouth      214692            0.000307  \n",
       "3         47.530172        Cornwall      573299            0.000506  \n",
       "4        101.206163    Peterborough      202626            0.000410  \n",
       "..              ...             ...         ...                 ...  \n",
       "105       86.452362           Luton      213528            0.000375  \n",
       "106       85.976512  North Tyneside      208871            0.000393  \n",
       "107      109.990614          Medway      279142            0.000394  \n",
       "108      107.277076        Haringey      266357            0.000375  \n",
       "109       85.550494   Milton Keynes      270203            0.000440  \n",
       "\n",
       "[110 rows x 8 columns]"
      ]
     },
     "execution_count": 200,
     "metadata": {},
     "output_type": "execute_result"
    }
   ],
   "source": [
    "# Merge with schools and population dataframes\n",
    "crime_reported_schools = pd.merge(schools, crimes_reported, on='la_code')\n",
    "crime_reported_schools_percap = pd.merge(crime_reported_schools, population, on='la_code')\n",
    "\n",
    "#add per capita column\n",
    "crime_reported_schools_percap['schools_per_capita'] = crime_reported_schools_percap['number_of_schools'] / crime_reported_schools_percap['Population']\n",
    "crime_reported_schools_percap\n",
    "\n"
   ]
  },
  {
   "cell_type": "markdown",
   "id": "a6b239a5",
   "metadata": {},
   "source": [
    "# Scatter Plot - Schools per capita and Crimes Reported per 1000"
   ]
  },
  {
   "cell_type": "code",
   "execution_count": 204,
   "id": "7072d1e7",
   "metadata": {},
   "outputs": [
    {
     "data": {
      "text/plain": [
       "<AxesSubplot:xlabel='schools_per_capita', ylabel='crimes_per_1000'>"
      ]
     },
     "execution_count": 204,
     "metadata": {},
     "output_type": "execute_result"
    },
    {
     "data": {
      "image/png": "[encoded data removed]",
      "text/plain": [
       "<Figure size 432x288 with 1 Axes>"
      ]
     },
     "metadata": {
      "needs_background": "light"
     },
     "output_type": "display_data"
    }
   ],
   "source": [
    "crime_reported_schools_percap.plot.scatter(x=\"schools_per_capita\", y=\"crimes_per_1000\")"
   ]
  },
  {
   "cell_type": "markdown",
   "id": "eedf95be",
   "metadata": {},
   "source": [
    "# Linear Regression - Schools per capita and Crimes Reported per 1000\n",
    "\n",
    "There seems to be a mild correlation between schools per capita and crimes reported per 1000"
   ]
  },
  {
   "cell_type": "code",
   "execution_count": 207,
   "id": "a4af8cae",
   "metadata": {},
   "outputs": [
    {
     "data": {
      "image/png": "[encoded data removed]",
      "text/plain": [
       "<Figure size 432x288 with 1 Axes>"
      ]
     },
     "metadata": {
      "needs_background": "light"
     },
     "output_type": "display_data"
    }
   ],
   "source": [
    "#perform some linear regression to find our line of best fit\n",
    "#convert columns to numpy arrays\n",
    "X = crime_reported_schools_percap[\"schools_per_capita\"].to_numpy().reshape(-1,1)\n",
    "Y = crime_reported_schools_percap[\"crimes_per_1000\"].to_numpy().reshape(-1,1)\n",
    "\n",
    "#instantiate linear regression object\n",
    "linear_regressor = LinearRegression()  # create object for the class\n",
    "linear_regressor.fit(X, Y)  # perform linear regression\n",
    "Y_pred = linear_regressor.predict(X)\n",
    "\n",
    "#show linear regression\n",
    "plt.scatter(X, Y)\n",
    "plt.plot(X, Y_pred, color='red')\n",
    "plt.xlabel(\"Schools per capita\")\n",
    "plt.ylabel(\"Crimes per 1000\")\n",
    "plt.show()"
   ]
  },
  {
   "cell_type": "code",
   "execution_count": 208,
   "id": "c6e2fd85",
   "metadata": {},
   "outputs": [
    {
     "data": {
      "text/plain": [
       "0.06366610658002914"
      ]
     },
     "execution_count": 208,
     "metadata": {},
     "output_type": "execute_result"
    }
   ],
   "source": [
    "r2_score(Y, Y_pred)"
   ]
  },
  {
   "cell_type": "code",
   "execution_count": null,
   "id": "d81b930e",
   "metadata": {},
   "outputs": [],
   "source": []
  }
 ],
 "metadata": {
  "kernelspec": {
   "display_name": "Python 3",
   "language": "python",
   "name": "python3"
  },
  "language_info": {
   "codemirror_mode": {
    "name": "ipython",
    "version": 3
   },
   "file_extension": ".py",
   "mimetype": "text/x-python",
   "name": "python",
   "nbconvert_exporter": "python",
   "pygments_lexer": "ipython3",
   "version": "3.9.5"
  }
 },
 "nbformat": 4,
 "nbformat_minor": 5
}
